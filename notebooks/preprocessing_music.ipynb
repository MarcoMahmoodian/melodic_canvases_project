{
 "cells": [
  {
   "cell_type": "code",
   "execution_count": null,
   "metadata": {},
   "outputs": [],
   "source": [
    "import pandas as pd\n"
   ]
  },
  {
   "cell_type": "code",
   "execution_count": null,
   "metadata": {},
   "outputs": [],
   "source": [
    "!ls"
   ]
  },
  {
   "cell_type": "code",
   "execution_count": null,
   "metadata": {},
   "outputs": [],
   "source": [
    "df_metadata = pd.read_csv('../raw_data/musicnet_metadata.csv')\n",
    "df_metadata.head()"
   ]
  },
  {
   "cell_type": "code",
   "execution_count": null,
   "metadata": {},
   "outputs": [],
   "source": [
    "df_metadata.groupby(by='composer')['id'].count().sort_values(ascending=False)"
   ]
  },
  {
   "cell_type": "code",
   "execution_count": null,
   "metadata": {},
   "outputs": [],
   "source": [
    "df_metadata.groupby(by='composer')['seconds'].sum().sort_values(ascending=False)/60"
   ]
  },
  {
   "cell_type": "code",
   "execution_count": null,
   "metadata": {},
   "outputs": [],
   "source": [
    "df_metadata.describe()"
   ]
  },
  {
   "cell_type": "code",
   "execution_count": null,
   "metadata": {},
   "outputs": [],
   "source": [
    "1069/60"
   ]
  },
  {
   "cell_type": "code",
   "execution_count": null,
   "metadata": {},
   "outputs": [],
   "source": [
    "len(df_metadata)"
   ]
  },
  {
   "attachments": {},
   "cell_type": "markdown",
   "metadata": {},
   "source": [
    "Split .wav music files into shorter lengh files:"
   ]
  },
  {
   "cell_type": "code",
   "execution_count": 38,
   "metadata": {},
   "outputs": [],
   "source": [
    "import os\n",
    "import soundfile as sf\n",
    "\n",
    "def split_wav_files(input_folder, output_folder, duration=30):\n",
    "    # Create the output folder if it doesn't exist\n",
    "    os.makedirs(output_folder, exist_ok=True)\n",
    "    \n",
    "    # Get a list of .wav files in the input folder\n",
    "    wav_files = [file for file in os.listdir(input_folder) if file.endswith(\".wav\")]\n",
    "    \n",
    "    # Iterate over each .wav file\n",
    "    for wav_file in wav_files:\n",
    "        file_path = os.path.join(input_folder, wav_file)\n",
    "        \n",
    "        # Load the .wav file\n",
    "        data, sample_rate = sf.read(file_path)\n",
    "        \n",
    "        # Calculate the number of chunks based on the desired duration\n",
    "        num_chunks = int(len(data) / (sample_rate * duration))\n",
    "        \n",
    "        # Split the .wav file into chunks\n",
    "        for i in range(num_chunks):\n",
    "            start = i * sample_rate * duration\n",
    "            end = start + sample_rate * duration\n",
    "            chunk = data[start:end]\n",
    "            \n",
    "            # Create the output file name\n",
    "            output_file = f\"{os.path.splitext(wav_file)[0]}_{i+1}.wav\"\n",
    "            output_path = os.path.join(output_folder, output_file)\n",
    "            \n",
    "            # Save the chunk as a new .wav file\n",
    "            sf.write(output_path, chunk, sample_rate)\n",
    "            \n",
    "        # Handle the remaining audio if any\n",
    "        # remaining = data[num_chunks * sample_rate * duration:]\n",
    "        # if len(remaining) >= sample_rate:\n",
    "        #     output_file = f\"{os.path.splitext(wav_file)[0]}_{num_chunks+1}.wav\"\n",
    "        #     output_path = os.path.join(output_folder, output_file)\n",
    "        #     sf.write(output_path, remaining, sample_rate)\n"
   ]
  },
  {
   "attachments": {},
   "cell_type": "markdown",
   "metadata": {},
   "source": [
    "**Run only once!:**"
   ]
  },
  {
   "cell_type": "code",
   "execution_count": 39,
   "metadata": {},
   "outputs": [],
   "source": [
    "# input_folder = '../raw_data/musicnet/musicnet/test_data'\n",
    "# output_folder = '../raw_data/musicnet/musicnet/test_data_split'\n",
    "\n",
    "input_folder = '../raw_data/musicnet/musicnet/train_data'\n",
    "output_folder = '../raw_data/musicnet/musicnet/train_data_split'\n",
    "\n",
    "duration = 30\n",
    "\n",
    "split_wav_files(input_folder, output_folder, duration)"
   ]
  },
  {
   "cell_type": "code",
   "execution_count": null,
   "metadata": {},
   "outputs": [],
   "source": []
  },
  {
   "cell_type": "code",
   "execution_count": null,
   "metadata": {},
   "outputs": [],
   "source": []
  }
 ],
 "metadata": {
  "kernelspec": {
   "display_name": "lewagon",
   "language": "python",
   "name": "python3"
  },
  "language_info": {
   "codemirror_mode": {
    "name": "ipython",
    "version": 3
   },
   "file_extension": ".py",
   "mimetype": "text/x-python",
   "name": "python",
   "nbconvert_exporter": "python",
   "pygments_lexer": "ipython3",
   "version": "3.10.6"
  },
  "orig_nbformat": 4
 },
 "nbformat": 4,
 "nbformat_minor": 2
}
